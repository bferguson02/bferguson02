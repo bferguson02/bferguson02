{
 "cells": [
  {
   "cell_type": "markdown",
   "metadata": {},
   "source": [
    "# DTSC-580: Data Manipulation\n",
    "## Picture Phrase: NumPy Assignment\n",
    "#### Name:\n",
    "\n",
    "## Overview\n",
    "\n",
    "For this assignment, I took a picture with a specific phrase written on it and turned it into a NumPy array of RGB values.  I then transformed that array using a set of specific NumPy transformations.  It will be your task to transform the array back to the original by performing the same NumPy transformations.  In the end, you will reshape the array and show the corresponding image associated with it. Your notebook will then be uploaded to CodeGrade to check your results.\n",
    "\n",
    "**Important:** \n",
    "\n",
    "- Please make sure you follow all the steps <u>*in order*</u> or the picture may not be viewable and the question may be counted incorrect in CodeGrade.\n",
    "- Since these operations must be done in order on the data, you MUST use the variable from the previous question when performing the operation. For example:\n",
    "\n",
    "   **SampleQ1:** Create a variable called SampleQ1 that is equal to 1.\n",
    "\n",
    "       SampleQ1 = 1\n",
    "\n",
    "   **SampleQ2:** Add 1.\n",
    "\n",
    "      SampleQ2 = SampleQ1 + 1\n",
    "\n",
    "   **SampleQ3:** Multiply by 2\n",
    "\n",
    "      SampleQ3 = SampleQ2 * 2\n",
    "\n",
    "- You could probably see the phrase before you completed all the steps even though it might be fuzzy. Try to resist the temptation to peak at the picture until you are done. The goal of this task is to give you practice working with NumPy.\n",
    "- Make sure that your notebook is saved with the name `picture_phrase` before submitting to CodeGrade.\n"
   ]
  },
  {
   "cell_type": "markdown",
   "metadata": {},
   "source": [
    "## Standard Imports"
   ]
  },
  {
   "cell_type": "code",
   "execution_count": null,
   "metadata": {},
   "outputs": [],
   "source": [
    "# load standard imports\n",
    "import numpy as np\n",
    "from matplotlib import pyplot as plt\n",
    "np.set_printoptions(suppress=True) #prevent numpy exponential; do not change"
   ]
  },
  {
   "cell_type": "markdown",
   "metadata": {},
   "source": [
    "## Load Array "
   ]
  },
  {
   "cell_type": "code",
   "execution_count": null,
   "metadata": {},
   "outputs": [],
   "source": [
    "# load image\n",
    "img = np.loadtxt('array.txt', dtype='U32')"
   ]
  },
  {
   "cell_type": "code",
   "execution_count": null,
   "metadata": {},
   "outputs": [],
   "source": [
    "# view array\n",
    "img"
   ]
  },
  {
   "cell_type": "markdown",
   "metadata": {},
   "source": [
    "It doesn't look like it, but this array actually contains RGB values (albeit mixed up and transformed) for a picture. Let's check the shape of the data."
   ]
  },
  {
   "cell_type": "markdown",
   "metadata": {},
   "source": [
    "## NumPy Exercises\n",
    "\n",
    "**Exercise:** What is the shape of the NumPy array?"
   ]
  },
  {
   "cell_type": "code",
   "execution_count": null,
   "metadata": {},
   "outputs": [],
   "source": [
    "### ENTER CODE HERE ###"
   ]
  },
  {
   "cell_type": "markdown",
   "metadata": {},
   "source": [
    "Next, let's check the data type.\n",
    "\n",
    "**Exercise:** What is the data type for the array?"
   ]
  },
  {
   "cell_type": "code",
   "execution_count": null,
   "metadata": {},
   "outputs": [],
   "source": [
    "### ENTER CODE HERE ###"
   ]
  },
  {
   "cell_type": "markdown",
   "metadata": {},
   "source": [
    "### CodeGrade Questions\n",
    "\n",
    "For the next tasks, save your output as the question number. Since these operations must be done in order on the data, you **MUST** use the variable from the previous question when performing the operation. For example:\n",
    "\n",
    "&nbsp;&nbsp;&nbsp;**SampleQ1:** Create a variable called `SampleQ1` that is equal to 1.\n",
    "\n",
    "&nbsp;&nbsp;&nbsp;&nbsp;&nbsp;&nbsp; `SampleQ1 = 1`\n",
    "\n",
    "&nbsp;&nbsp;&nbsp;**SampleQ2:** Add 1.\n",
    "\n",
    "&nbsp;&nbsp;&nbsp;&nbsp;&nbsp;&nbsp;`SampleQ2 = SampleQ1 + 1`\n",
    "\n",
    "&nbsp;&nbsp;&nbsp;**SampleQ3:** Multiply by 2\n",
    "\n",
    "&nbsp;&nbsp;&nbsp;&nbsp;&nbsp;&nbsp;`SampleQ3 = SampleQ2 * 2`\n",
    "\n",
    "Do not use any print statements. The first two have been done for you as examples."
   ]
  },
  {
   "cell_type": "markdown",
   "metadata": {},
   "source": [
    "In order to perform mathematical operations on the data, we will need the values to be in a numerical format. \n",
    "\n",
    "**Q1:** Update the data type of `img` to `float64` and call it `Q1`."
   ]
  },
  {
   "cell_type": "code",
   "execution_count": null,
   "metadata": {},
   "outputs": [],
   "source": [
    "# update `img` to float and call it Q1\n",
    "Q1 = img.astype('float64')\n",
    "Q1"
   ]
  },
  {
   "cell_type": "markdown",
   "metadata": {},
   "source": [
    "One of the key features of NumPy is its ability to perform mathematical operations on whole blocks of data. Let's look at some of these operations.\n",
    "\n",
    "**Q2:** Multiply each element in the `Q1` array by 10 and call this new array `Q2`."
   ]
  },
  {
   "cell_type": "code",
   "execution_count": null,
   "metadata": {},
   "outputs": [],
   "source": [
    "# multiply each element by 10 \n",
    "Q2 = Q1 * 10\n",
    "Q2"
   ]
  },
  {
   "cell_type": "markdown",
   "metadata": {},
   "source": [
    "**Q3:** \n",
    "    \n",
    "1. Create a NumPy array called `arr` of the following five values: 32, 54, 67, 88, 4\n",
    "    \n",
    "2. Use the NumPy's sum method to add all the values together and store as a variable called `total`.  Do not hard code the answer by manually adding the numbers in your head.  Use NumPy functions or you may be counted off during a review of the assignment.\n",
    "    \n",
    "3. Add this total to every element of the `Q2` array and call this new array `Q3`."
   ]
  },
  {
   "cell_type": "code",
   "execution_count": null,
   "metadata": {},
   "outputs": [],
   "source": [
    "### ENTER CODE HERE ###"
   ]
  },
  {
   "cell_type": "markdown",
   "metadata": {},
   "source": [
    "**Q4:** Add the `Q3` array to itself (example: array + array) and call it `Q4`. This will add the corresponding values in each cell to each other."
   ]
  },
  {
   "cell_type": "code",
   "execution_count": null,
   "metadata": {},
   "outputs": [],
   "source": [
    "### ENTER CODE HERE ###"
   ]
  },
  {
   "cell_type": "markdown",
   "metadata": {},
   "source": [
    "**Q5:** Subtract 1 from the first item in the `Q4` array, 2 from the 2nd item, 3 from the 3rd item...n from the n<sup>th</sup> item and call the new array `Q5`. You should **not** do this using any type of loop as that wouldn't be efficient. Hint: Think about creating a second array that could be used in combination with the first array to complete the task."
   ]
  },
  {
   "cell_type": "code",
   "execution_count": null,
   "metadata": {},
   "outputs": [],
   "source": [
    "### ENTER CODE HERE ###"
   ]
  },
  {
   "cell_type": "markdown",
   "metadata": {},
   "source": [
    "**Code Check:**  To check your code so far, the output of your `Q5` array should be: \n",
    "\n",
    "`array([ 240., 50176., 278.,..., 46225., 399., 124609.])`.  \n",
    "\n",
    "If your output does not match, go back and check your above steps."
   ]
  },
  {
   "cell_type": "markdown",
   "metadata": {},
   "source": [
    "**Q6:** Copy the `Q5` array and call the new array `Q6` (this step makes it easier to work with automatic grading in CodeGrade). Update the 4th element in the `Q6` array to `46225`. \n",
    "\n",
    "<u>Careful</u>: Remember that Python is zero based index."
   ]
  },
  {
   "cell_type": "code",
   "execution_count": null,
   "metadata": {},
   "outputs": [],
   "source": [
    "# make a copy of the previous array\n",
    "Q6 = Q5.copy()\n",
    "\n",
    "### ENTER CODE HERE ###"
   ]
  },
  {
   "cell_type": "markdown",
   "metadata": {},
   "source": [
    "**Q7:** Copy the `Q6` array and call the new array `Q7`. Select the indices from `1,000` to `200,000` (including the element in the `200,000` index) and the indices from `400,000` to `600,000` (including the element in the `600,000` index) in `Q7` and add `255` to only those values."
   ]
  },
  {
   "cell_type": "code",
   "execution_count": null,
   "metadata": {},
   "outputs": [],
   "source": [
    "# make a copy of the previous array\n",
    "Q7 = Q6.copy()\n",
    "\n",
    "### ENTER CODE HERE ###"
   ]
  },
  {
   "cell_type": "markdown",
   "metadata": {},
   "source": [
    "**Code Check:**  To check your code, confirm the following output from `Q7`:\n",
    "```\n",
    "Q7[999] should equal 46225.0\n",
    "Q7[1000] should equal 249.0\n",
    "Q7[600000] should equal 241.0\n",
    "Q7[600001] should equal 50625.0\n",
    "```"
   ]
  },
  {
   "cell_type": "markdown",
   "metadata": {},
   "source": [
    "**Q8:** Reshape the `Q7` array to a two-dimensional, two-column array and call this `Q8`."
   ]
  },
  {
   "cell_type": "code",
   "execution_count": null,
   "metadata": {},
   "outputs": [],
   "source": [
    "### ENTER CODE HERE ###"
   ]
  },
  {
   "cell_type": "markdown",
   "metadata": {},
   "source": [
    "**Q9:** Swap the two columns from the array in `Q8` and call this `Q9`. In other words, the first column will now be the second and the second column will now be the first."
   ]
  },
  {
   "cell_type": "code",
   "execution_count": null,
   "metadata": {},
   "outputs": [],
   "source": [
    "### ENTER CODE HERE ###"
   ]
  },
  {
   "cell_type": "markdown",
   "metadata": {},
   "source": [
    "**Q10:** Reverse the rows of the `Q9` array and call this `Q10`."
   ]
  },
  {
   "cell_type": "code",
   "execution_count": null,
   "metadata": {},
   "outputs": [],
   "source": [
    "### ENTER CODE HERE ###"
   ]
  },
  {
   "cell_type": "markdown",
   "metadata": {},
   "source": [
    "**Code Check:** To check your code, the output of `Q10` should be the following:\n",
    "\n",
    "```\n",
    "array([[124609.,    399.],\n",
    "       [ 46225.,    253.],\n",
    "       [ 50176.,    265.],\n",
    "       ...,\n",
    "       [ 51984.,    249.],\n",
    "       [ 46225.,    278.],\n",
    "       [ 50176.,    240.]])\n",
    "```\n",
    "\n",
    "If your output does not match, go back and review your previous steps."
   ]
  },
  {
   "cell_type": "markdown",
   "metadata": {},
   "source": [
    "**Q11:** Copy the `Q10` array and call it `Q11`. Set `Q11`'s 101st row as `[46225, 278]` \n",
    "\n",
    "<u>Careful</u>: Remember that Python is zero based index"
   ]
  },
  {
   "cell_type": "code",
   "execution_count": null,
   "metadata": {},
   "outputs": [],
   "source": [
    "# make a copy of the previous array\n",
    "Q11 = Q10.copy()\n",
    "\n",
    "### ENTER CODE HERE ###"
   ]
  },
  {
   "cell_type": "markdown",
   "metadata": {},
   "source": [
    "**Q12:** Copy the `Q11` array and call it `Q12`. Set the first element in the 100,001st row to `46656`. \n",
    "\n",
    "<u>Careful</u>: Remember that Python is zero based index"
   ]
  },
  {
   "cell_type": "code",
   "execution_count": null,
   "metadata": {},
   "outputs": [],
   "source": [
    "# make a copy of the previous array\n",
    "Q12 = Q11.copy()\n",
    "\n",
    "### ENTER CODE HERE ###"
   ]
  },
  {
   "cell_type": "markdown",
   "metadata": {},
   "source": [
    "**Q13:** Copy the `Q12` array and call it `Q13`. Subtract 125 from every element only in the second column."
   ]
  },
  {
   "cell_type": "code",
   "execution_count": null,
   "metadata": {},
   "outputs": [],
   "source": [
    "# make a copy of the previous array\n",
    "Q13 = Q12.copy()\n",
    "\n",
    "### ENTER CODE HERE ###"
   ]
  },
  {
   "cell_type": "markdown",
   "metadata": {},
   "source": [
    "**Q14:** Copy the `Q13` array and call it `Q14`. Take the square root of every element in the first column."
   ]
  },
  {
   "cell_type": "code",
   "execution_count": null,
   "metadata": {},
   "outputs": [],
   "source": [
    "# make a copy of the previous array\n",
    "Q14 = Q13.copy()\n",
    "\n",
    "### ENTER CODE HERE ###"
   ]
  },
  {
   "cell_type": "markdown",
   "metadata": {},
   "source": [
    "**Q15 :** Copy the `Q14` array and call it `Q15`. Take every odd row of `Q15` and add 75 to the element in the second column.  \n",
    "\n",
    "**Note: When considering if a row is odd, we are not using Python's zero-based index.  In other words, the first row in the array is #1, which is odd.**"
   ]
  },
  {
   "cell_type": "code",
   "execution_count": null,
   "metadata": {},
   "outputs": [],
   "source": [
    "# make a copy of the previous array\n",
    "Q15 = Q14.copy()\n",
    "\n",
    "### ENTER CODE HERE ###"
   ]
  },
  {
   "cell_type": "markdown",
   "metadata": {},
   "source": [
    "**Code Check:** To check your code, the output of `Q15` should be:\n",
    "```\n",
    "array([[353., 349.],\n",
    "       [215., 128.],\n",
    "       [224., 215.],\n",
    "       ...,\n",
    "       [228., 124.],\n",
    "       [215., 228.],\n",
    "       [224., 115.]])\n",
    "```     \n",
    "If your output does not match, go back and review your previous steps."
   ]
  },
  {
   "cell_type": "markdown",
   "metadata": {},
   "source": [
    "**Q16:** Copy the `Q15` array and call it `Q16`. Using a boolean array, change any value in `Q16` that is currently 999 and set it to 117."
   ]
  },
  {
   "cell_type": "code",
   "execution_count": null,
   "metadata": {},
   "outputs": [],
   "source": [
    "# make a copy of the previous array\n",
    "Q16 = Q15.copy()\n",
    "\n",
    "### ENTER CODE HERE ###"
   ]
  },
  {
   "cell_type": "markdown",
   "metadata": {},
   "source": [
    "**Q17:** Copy the `Q16` array and call it `Q17`.  Take every even row of `Q17` and add 100 to the element in the 2nd column.  \n",
    "\n",
    "**Note: When considering if a row is even, we are not using Python's zero-based index. In other words, the second row in the array is #2, which is even.**"
   ]
  },
  {
   "cell_type": "code",
   "execution_count": null,
   "metadata": {},
   "outputs": [],
   "source": [
    "# make a copy of the previous array\n",
    "Q17 = Q16.copy()\n",
    "\n",
    "### ENTER CODE HERE ###"
   ]
  },
  {
   "cell_type": "markdown",
   "metadata": {},
   "source": [
    "**Q18:** \n",
    "1. Copy the `Q17` array and call it `Q18`.\n",
    "2. Take the transpose of the `Q18` array.\n",
    "3. Subtract 125 from the first column of all rows.\n",
    "4. Take the transpose of the array again (this puts it back in its original state) making sure that all the changes are saved as `Q18`."
   ]
  },
  {
   "cell_type": "code",
   "execution_count": null,
   "metadata": {},
   "outputs": [],
   "source": [
    "# make a copy of the previous array\n",
    "Q18 = Q17.copy()\n",
    "\n",
    "### ENTER CODE HERE ###"
   ]
  },
  {
   "cell_type": "markdown",
   "metadata": {},
   "source": [
    "**Q19:** Reshape the `Q18` array to (423, 640, 3) and call it `Q19`. Note: the 3 values in each row are the RGB values for every pixel of the picture."
   ]
  },
  {
   "cell_type": "code",
   "execution_count": null,
   "metadata": {},
   "outputs": [],
   "source": [
    "### ENTER CODE HERE ###"
   ]
  },
  {
   "cell_type": "markdown",
   "metadata": {},
   "source": [
    "**Q20:** Cast the entire `Q19` array as an `int` and call it `Q20`."
   ]
  },
  {
   "cell_type": "code",
   "execution_count": null,
   "metadata": {},
   "outputs": [],
   "source": [
    "### ENTER CODE HERE ###"
   ]
  },
  {
   "cell_type": "markdown",
   "metadata": {},
   "source": [
    "**Q21:** Run the code below to plot your array below. "
   ]
  },
  {
   "cell_type": "code",
   "execution_count": null,
   "metadata": {},
   "outputs": [],
   "source": [
    "# create img variable to be used during plotting and in CodeGrade\n",
    "img = Q20\n",
    "\n",
    "# plot image\n",
    "fig = plt.figure(figsize=(15, 10))\n",
    "plt.imshow(img)\n",
    "plt.show()"
   ]
  },
  {
   "cell_type": "markdown",
   "metadata": {},
   "source": [
    "**Q22:** Create a variable called `Q22` that is a string of the phrase in the picture (include punctuation but not the name of the author).  You can of course hard code this string."
   ]
  },
  {
   "cell_type": "code",
   "execution_count": null,
   "metadata": {},
   "outputs": [],
   "source": [
    "### ENTER CODE HERE ###"
   ]
  }
 ],
 "metadata": {
  "kernelspec": {
   "display_name": "Python 3",
   "language": "python",
   "name": "python3"
  },
  "language_info": {
   "codemirror_mode": {
    "name": "ipython",
    "version": 3
   },
   "file_extension": ".py",
   "mimetype": "text/x-python",
   "name": "python",
   "nbconvert_exporter": "python",
   "pygments_lexer": "ipython3",
   "version": "3.8.5"
  }
 },
 "nbformat": 4,
 "nbformat_minor": 4
}
